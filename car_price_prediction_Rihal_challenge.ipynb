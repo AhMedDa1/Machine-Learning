{
  "cells": [
    {
      "cell_type": "markdown",
      "metadata": {
        "id": "view-in-github",
        "colab_type": "text"
      },
      "source": [
        "<a href=\"https://colab.research.google.com/github/AhMedDa1/Machine-Learning/blob/main/car_price_prediction_Rihal_challenge.ipynb\" target=\"_parent\"><img src=\"https://colab.research.google.com/assets/colab-badge.svg\" alt=\"Open In Colab\"/></a>"
      ]
    },
    {
      "cell_type": "markdown",
      "metadata": {
        "id": "8G07v_mP07lh"
      },
      "source": [
        "# Car Price Prediction\n"
      ]
    },
    {
      "cell_type": "markdown",
      "source": [
        "the data contain a categorical  features we have to deal with it by one of two method, drop the columns with categorical or encode it, first i will remove the categorical. and check if there any missing values, after that will apply the model and calculate the MEA. i will use RandomForestRegressor model. and for the categorical encoding i will use OneHotEncoder. Finally i will use SimpleImputer to deal with missing values (fill it with mean)"
      ],
      "metadata": {
        "id": "m949mYQL4yai"
      }
    },
    {
      "cell_type": "code",
      "execution_count": null,
      "metadata": {
        "id": "3pt9YAdM07nC"
      },
      "outputs": [],
      "source": [
        "# Importing the required libraries\n",
        "import pandas as pd               \n",
        "import numpy as np\n",
        "import seaborn as sns                       #visualisation\n",
        "import matplotlib.pyplot as plt             #visualisation\n",
        "from sklearn.metrics import mean_absolute_error\n",
        "from sklearn.ensemble import RandomForestRegressor\n",
        "from sklearn.metrics import mean_absolute_error\n",
        "from sklearn.preprocessing import OneHotEncoder\n",
        "from sklearn.impute import SimpleImputer\n",
        "from sklearn.metrics import mean_absolute_error"
      ]
    },
    {
      "cell_type": "code",
      "source": [
        "train = pd.read_csv(\"data_train.csv\")\n",
        "test = pd.read_csv(\"data_test.csv\")"
      ],
      "metadata": {
        "id": "QHHDdmy8uFS1"
      },
      "execution_count": null,
      "outputs": []
    },
    {
      "cell_type": "code",
      "source": [
        "# Function for run the model and calculate the mae\n",
        "def score_dataset(X_train, X_valid, y_train, y_valid):\n",
        "    model = RandomForestRegressor(n_estimators=1000, random_state=0)\n",
        "    model.fit(X_train, y_train)\n",
        "    preds = model.predict(X_valid)\n",
        "    return mean_absolute_error(y_valid, preds)"
      ],
      "metadata": {
        "id": "GuGy4IctuE8k"
      },
      "execution_count": null,
      "outputs": []
    },
    {
      "cell_type": "code",
      "source": [
        "#here will print the categorical \n",
        "\n",
        "s = (train.dtypes == 'object')\n",
        "object_cols = list(s[s].index)\n",
        "print(object_cols)"
      ],
      "metadata": {
        "colab": {
          "base_uri": "https://localhost:8080/"
        },
        "id": "w3wlEAI4uEWv",
        "outputId": "6746ce31-b06c-45c0-e47f-ed582e6462ab"
      },
      "execution_count": null,
      "outputs": [
        {
          "output_type": "stream",
          "name": "stdout",
          "text": [
            "['manufacturer_name', 'transmission', 'color', 'engine_fuel', 'engine_type', 'body_type', 'ownership', 'type_of_drive']\n"
          ]
        }
      ]
    },
    {
      "cell_type": "code",
      "source": [
        "# i will try to remove all categarical to and calculate the accuaracy \n",
        "\n",
        "# splitting the test data to x,y\n",
        "y_test = test.price_usd\n",
        "x_test = test.drop(object_cols,axis=1)\n",
        "x_test = x_test.drop('price_usd',axis=1)\n",
        "\n",
        "#splitting the training data to x and y\n",
        "y_train = train.price_usd\n",
        "x_train = train.drop(object_cols,axis=1)\n",
        "x_train = x_train.drop('price_usd',axis=1)"
      ],
      "metadata": {
        "id": "K_PlvDsLuf2j"
      },
      "execution_count": null,
      "outputs": []
    },
    {
      "cell_type": "markdown",
      "source": [
        "Get names of columns with missing values"
      ],
      "metadata": {
        "id": "f6ypE9QluoTv"
      }
    },
    {
      "cell_type": "code",
      "source": [
        "cols_with_missing = [col for col in x_train.columns\n",
        "                     if x_train[col].isnull().any()]\n",
        "cols_with_missing"
      ],
      "metadata": {
        "colab": {
          "base_uri": "https://localhost:8080/"
        },
        "id": "kPJVMk_rupU4",
        "outputId": "8977355f-8339-472b-9220-cb1835b7e51b"
      },
      "execution_count": null,
      "outputs": [
        {
          "output_type": "execute_result",
          "data": {
            "text/plain": [
              "['engine_capacity']"
            ]
          },
          "metadata": {},
          "execution_count": 197
        }
      ]
    },
    {
      "cell_type": "markdown",
      "source": [
        "here will fill tha NaN values in engine_capacity"
      ],
      "metadata": {
        "id": "XMJWQr0g58tB"
      }
    },
    {
      "cell_type": "code",
      "source": [
        "# Imputation\n",
        "my_imputer = SimpleImputer()\n",
        "imputed_X_train = pd.DataFrame(my_imputer.fit_transform(x_train))\n",
        "imputed_X_valid = pd.DataFrame(my_imputer.transform(x_test))"
      ],
      "metadata": {
        "id": "Fp9ftUzQutsK"
      },
      "execution_count": null,
      "outputs": []
    },
    {
      "cell_type": "code",
      "source": [
        "print(\"MAE from Drop categorical variables :\")\n",
        "print(score_dataset(imputed_X_train, imputed_X_valid, y_train, y_test))"
      ],
      "metadata": {
        "colab": {
          "base_uri": "https://localhost:8080/"
        },
        "id": "JNlhcTiFuwo2",
        "outputId": "9f6dce52-7c67-4508-a479-88cb459c1a6b"
      },
      "execution_count": null,
      "outputs": [
        {
          "output_type": "stream",
          "name": "stdout",
          "text": [
            "MAE from Drop categorical variables :\n",
            "938.0406336014078\n"
          ]
        }
      ]
    },
    {
      "cell_type": "markdown",
      "source": [
        "As you see the mae is un acceptabel somehow so we will use the another way to deal with categorical."
      ],
      "metadata": {
        "id": "nlk0E5e9VpCQ"
      }
    },
    {
      "cell_type": "markdown",
      "metadata": {
        "id": "aH4WaFmZ07nS"
      },
      "source": [
        "### Step 1: Reading and Understanding the Data\n",
        "\n",
        "here i will try to get insight from the data. and visualize some feature to see which important to predict. after that i will use     to automate the process of importance feature. and prevent the lowest importance ones and calculate the MEA again and see the difference.  \n",
        "\n",
        "1. Importing data using the pandas library\n",
        "2. Understanding the structure of the data"
      ]
    },
    {
      "cell_type": "code",
      "execution_count": null,
      "metadata": {
        "colab": {
          "base_uri": "https://localhost:8080/",
          "height": 270
        },
        "id": "aMEJfkwL07nX",
        "outputId": "819b0a9a-442d-4d3f-9721-94fa6f8582a8"
      },
      "outputs": [
        {
          "output_type": "execute_result",
          "data": {
            "text/html": [
              "\n",
              "  <div id=\"df-6c05b4e2-a770-4e6c-af61-88278cf22516\">\n",
              "    <div class=\"colab-df-container\">\n",
              "      <div>\n",
              "<style scoped>\n",
              "    .dataframe tbody tr th:only-of-type {\n",
              "        vertical-align: middle;\n",
              "    }\n",
              "\n",
              "    .dataframe tbody tr th {\n",
              "        vertical-align: top;\n",
              "    }\n",
              "\n",
              "    .dataframe thead th {\n",
              "        text-align: right;\n",
              "    }\n",
              "</style>\n",
              "<table border=\"1\" class=\"dataframe\">\n",
              "  <thead>\n",
              "    <tr style=\"text-align: right;\">\n",
              "      <th></th>\n",
              "      <th>manufacturer_name</th>\n",
              "      <th>transmission</th>\n",
              "      <th>color</th>\n",
              "      <th>odometer_value</th>\n",
              "      <th>year_produced</th>\n",
              "      <th>engine_fuel</th>\n",
              "      <th>engine_type</th>\n",
              "      <th>engine_capacity</th>\n",
              "      <th>body_type</th>\n",
              "      <th>has_warranty</th>\n",
              "      <th>ownership</th>\n",
              "      <th>type_of_drive</th>\n",
              "      <th>is_exchangeable</th>\n",
              "      <th>number_of_photos</th>\n",
              "      <th>number_of_maintenance</th>\n",
              "      <th>duration_listed</th>\n",
              "      <th>price_usd</th>\n",
              "    </tr>\n",
              "  </thead>\n",
              "  <tbody>\n",
              "    <tr>\n",
              "      <th>0</th>\n",
              "      <td>Volkswagen</td>\n",
              "      <td>automatic</td>\n",
              "      <td>black</td>\n",
              "      <td>130000</td>\n",
              "      <td>2016</td>\n",
              "      <td>diesel</td>\n",
              "      <td>diesel</td>\n",
              "      <td>1.6</td>\n",
              "      <td>universal</td>\n",
              "      <td>False</td>\n",
              "      <td>owned</td>\n",
              "      <td>front</td>\n",
              "      <td>True</td>\n",
              "      <td>17</td>\n",
              "      <td>38</td>\n",
              "      <td>67</td>\n",
              "      <td>13150.0</td>\n",
              "    </tr>\n",
              "    <tr>\n",
              "      <th>1</th>\n",
              "      <td>Renault</td>\n",
              "      <td>manual</td>\n",
              "      <td>brown</td>\n",
              "      <td>149000</td>\n",
              "      <td>2012</td>\n",
              "      <td>gasoline</td>\n",
              "      <td>gasoline</td>\n",
              "      <td>1.6</td>\n",
              "      <td>sedan</td>\n",
              "      <td>False</td>\n",
              "      <td>owned</td>\n",
              "      <td>front</td>\n",
              "      <td>False</td>\n",
              "      <td>9</td>\n",
              "      <td>3</td>\n",
              "      <td>100</td>\n",
              "      <td>7500.0</td>\n",
              "    </tr>\n",
              "    <tr>\n",
              "      <th>2</th>\n",
              "      <td>Kia</td>\n",
              "      <td>automatic</td>\n",
              "      <td>brown</td>\n",
              "      <td>110000</td>\n",
              "      <td>2014</td>\n",
              "      <td>gasoline</td>\n",
              "      <td>gasoline</td>\n",
              "      <td>1.6</td>\n",
              "      <td>hatchback</td>\n",
              "      <td>False</td>\n",
              "      <td>owned</td>\n",
              "      <td>front</td>\n",
              "      <td>False</td>\n",
              "      <td>5</td>\n",
              "      <td>10</td>\n",
              "      <td>91</td>\n",
              "      <td>12200.0</td>\n",
              "    </tr>\n",
              "    <tr>\n",
              "      <th>3</th>\n",
              "      <td>Opel</td>\n",
              "      <td>automatic</td>\n",
              "      <td>other</td>\n",
              "      <td>255100</td>\n",
              "      <td>2007</td>\n",
              "      <td>gasoline</td>\n",
              "      <td>gasoline</td>\n",
              "      <td>1.8</td>\n",
              "      <td>hatchback</td>\n",
              "      <td>False</td>\n",
              "      <td>owned</td>\n",
              "      <td>front</td>\n",
              "      <td>False</td>\n",
              "      <td>10</td>\n",
              "      <td>4</td>\n",
              "      <td>91</td>\n",
              "      <td>4950.0</td>\n",
              "    </tr>\n",
              "    <tr>\n",
              "      <th>4</th>\n",
              "      <td>Mazda</td>\n",
              "      <td>manual</td>\n",
              "      <td>blue</td>\n",
              "      <td>650000</td>\n",
              "      <td>1999</td>\n",
              "      <td>gasoline</td>\n",
              "      <td>gasoline</td>\n",
              "      <td>2.0</td>\n",
              "      <td>sedan</td>\n",
              "      <td>False</td>\n",
              "      <td>owned</td>\n",
              "      <td>front</td>\n",
              "      <td>True</td>\n",
              "      <td>5</td>\n",
              "      <td>7</td>\n",
              "      <td>62</td>\n",
              "      <td>3000.0</td>\n",
              "    </tr>\n",
              "  </tbody>\n",
              "</table>\n",
              "</div>\n",
              "      <button class=\"colab-df-convert\" onclick=\"convertToInteractive('df-6c05b4e2-a770-4e6c-af61-88278cf22516')\"\n",
              "              title=\"Convert this dataframe to an interactive table.\"\n",
              "              style=\"display:none;\">\n",
              "        \n",
              "  <svg xmlns=\"http://www.w3.org/2000/svg\" height=\"24px\"viewBox=\"0 0 24 24\"\n",
              "       width=\"24px\">\n",
              "    <path d=\"M0 0h24v24H0V0z\" fill=\"none\"/>\n",
              "    <path d=\"M18.56 5.44l.94 2.06.94-2.06 2.06-.94-2.06-.94-.94-2.06-.94 2.06-2.06.94zm-11 1L8.5 8.5l.94-2.06 2.06-.94-2.06-.94L8.5 2.5l-.94 2.06-2.06.94zm10 10l.94 2.06.94-2.06 2.06-.94-2.06-.94-.94-2.06-.94 2.06-2.06.94z\"/><path d=\"M17.41 7.96l-1.37-1.37c-.4-.4-.92-.59-1.43-.59-.52 0-1.04.2-1.43.59L10.3 9.45l-7.72 7.72c-.78.78-.78 2.05 0 2.83L4 21.41c.39.39.9.59 1.41.59.51 0 1.02-.2 1.41-.59l7.78-7.78 2.81-2.81c.8-.78.8-2.07 0-2.86zM5.41 20L4 18.59l7.72-7.72 1.47 1.35L5.41 20z\"/>\n",
              "  </svg>\n",
              "      </button>\n",
              "      \n",
              "  <style>\n",
              "    .colab-df-container {\n",
              "      display:flex;\n",
              "      flex-wrap:wrap;\n",
              "      gap: 12px;\n",
              "    }\n",
              "\n",
              "    .colab-df-convert {\n",
              "      background-color: #E8F0FE;\n",
              "      border: none;\n",
              "      border-radius: 50%;\n",
              "      cursor: pointer;\n",
              "      display: none;\n",
              "      fill: #1967D2;\n",
              "      height: 32px;\n",
              "      padding: 0 0 0 0;\n",
              "      width: 32px;\n",
              "    }\n",
              "\n",
              "    .colab-df-convert:hover {\n",
              "      background-color: #E2EBFA;\n",
              "      box-shadow: 0px 1px 2px rgba(60, 64, 67, 0.3), 0px 1px 3px 1px rgba(60, 64, 67, 0.15);\n",
              "      fill: #174EA6;\n",
              "    }\n",
              "\n",
              "    [theme=dark] .colab-df-convert {\n",
              "      background-color: #3B4455;\n",
              "      fill: #D2E3FC;\n",
              "    }\n",
              "\n",
              "    [theme=dark] .colab-df-convert:hover {\n",
              "      background-color: #434B5C;\n",
              "      box-shadow: 0px 1px 3px 1px rgba(0, 0, 0, 0.15);\n",
              "      filter: drop-shadow(0px 1px 2px rgba(0, 0, 0, 0.3));\n",
              "      fill: #FFFFFF;\n",
              "    }\n",
              "  </style>\n",
              "\n",
              "      <script>\n",
              "        const buttonEl =\n",
              "          document.querySelector('#df-6c05b4e2-a770-4e6c-af61-88278cf22516 button.colab-df-convert');\n",
              "        buttonEl.style.display =\n",
              "          google.colab.kernel.accessAllowed ? 'block' : 'none';\n",
              "\n",
              "        async function convertToInteractive(key) {\n",
              "          const element = document.querySelector('#df-6c05b4e2-a770-4e6c-af61-88278cf22516');\n",
              "          const dataTable =\n",
              "            await google.colab.kernel.invokeFunction('convertToInteractive',\n",
              "                                                     [key], {});\n",
              "          if (!dataTable) return;\n",
              "\n",
              "          const docLinkHtml = 'Like what you see? Visit the ' +\n",
              "            '<a target=\"_blank\" href=https://colab.research.google.com/notebooks/data_table.ipynb>data table notebook</a>'\n",
              "            + ' to learn more about interactive tables.';\n",
              "          element.innerHTML = '';\n",
              "          dataTable['output_type'] = 'display_data';\n",
              "          await google.colab.output.renderOutput(dataTable, element);\n",
              "          const docLink = document.createElement('div');\n",
              "          docLink.innerHTML = docLinkHtml;\n",
              "          element.appendChild(docLink);\n",
              "        }\n",
              "      </script>\n",
              "    </div>\n",
              "  </div>\n",
              "  "
            ],
            "text/plain": [
              "  manufacturer_name transmission  ... duration_listed  price_usd\n",
              "0        Volkswagen    automatic  ...              67    13150.0\n",
              "1           Renault       manual  ...             100     7500.0\n",
              "2               Kia    automatic  ...              91    12200.0\n",
              "3              Opel    automatic  ...              91     4950.0\n",
              "4             Mazda       manual  ...              62     3000.0\n",
              "\n",
              "[5 rows x 17 columns]"
            ]
          },
          "metadata": {},
          "execution_count": 200
        }
      ],
      "source": [
        "train = pd.read_csv('data_train.csv')\n",
        "test = pd.read_csv('data_test.csv')\n",
        "train.head()"
      ]
    },
    {
      "cell_type": "markdown",
      "source": [
        "to get statistical insight from the data"
      ],
      "metadata": {
        "id": "TrrEdU2T22av"
      }
    },
    {
      "cell_type": "code",
      "execution_count": null,
      "metadata": {
        "colab": {
          "base_uri": "https://localhost:8080/",
          "height": 300
        },
        "id": "bdO2teva07nt",
        "outputId": "2324452b-2b24-4193-8253-1ffc08a41106"
      },
      "outputs": [
        {
          "output_type": "execute_result",
          "data": {
            "text/html": [
              "\n",
              "  <div id=\"df-ea281308-7ecf-43fe-8161-88ced5108b51\">\n",
              "    <div class=\"colab-df-container\">\n",
              "      <div>\n",
              "<style scoped>\n",
              "    .dataframe tbody tr th:only-of-type {\n",
              "        vertical-align: middle;\n",
              "    }\n",
              "\n",
              "    .dataframe tbody tr th {\n",
              "        vertical-align: top;\n",
              "    }\n",
              "\n",
              "    .dataframe thead th {\n",
              "        text-align: right;\n",
              "    }\n",
              "</style>\n",
              "<table border=\"1\" class=\"dataframe\">\n",
              "  <thead>\n",
              "    <tr style=\"text-align: right;\">\n",
              "      <th></th>\n",
              "      <th>odometer_value</th>\n",
              "      <th>year_produced</th>\n",
              "      <th>engine_capacity</th>\n",
              "      <th>number_of_photos</th>\n",
              "      <th>number_of_maintenance</th>\n",
              "      <th>duration_listed</th>\n",
              "      <th>price_usd</th>\n",
              "    </tr>\n",
              "  </thead>\n",
              "  <tbody>\n",
              "    <tr>\n",
              "      <th>count</th>\n",
              "      <td>50000.000000</td>\n",
              "      <td>50000.000000</td>\n",
              "      <td>49985.000000</td>\n",
              "      <td>50000.000000</td>\n",
              "      <td>50000.000000</td>\n",
              "      <td>50000.000000</td>\n",
              "      <td>50000.000000</td>\n",
              "    </tr>\n",
              "    <tr>\n",
              "      <th>mean</th>\n",
              "      <td>249219.881980</td>\n",
              "      <td>2002.945620</td>\n",
              "      <td>2.056894</td>\n",
              "      <td>9.662420</td>\n",
              "      <td>16.256940</td>\n",
              "      <td>80.739440</td>\n",
              "      <td>6654.891274</td>\n",
              "    </tr>\n",
              "    <tr>\n",
              "      <th>std</th>\n",
              "      <td>136361.343789</td>\n",
              "      <td>8.067141</td>\n",
              "      <td>0.675106</td>\n",
              "      <td>6.145263</td>\n",
              "      <td>41.537349</td>\n",
              "      <td>113.606476</td>\n",
              "      <td>6467.096697</td>\n",
              "    </tr>\n",
              "    <tr>\n",
              "      <th>min</th>\n",
              "      <td>0.000000</td>\n",
              "      <td>1942.000000</td>\n",
              "      <td>0.200000</td>\n",
              "      <td>1.000000</td>\n",
              "      <td>1.000000</td>\n",
              "      <td>0.000000</td>\n",
              "      <td>1.000000</td>\n",
              "    </tr>\n",
              "    <tr>\n",
              "      <th>25%</th>\n",
              "      <td>158000.000000</td>\n",
              "      <td>1998.000000</td>\n",
              "      <td>1.600000</td>\n",
              "      <td>5.000000</td>\n",
              "      <td>2.000000</td>\n",
              "      <td>23.000000</td>\n",
              "      <td>2100.000000</td>\n",
              "    </tr>\n",
              "    <tr>\n",
              "      <th>50%</th>\n",
              "      <td>250000.000000</td>\n",
              "      <td>2003.000000</td>\n",
              "      <td>2.000000</td>\n",
              "      <td>8.000000</td>\n",
              "      <td>5.000000</td>\n",
              "      <td>59.000000</td>\n",
              "      <td>4800.000000</td>\n",
              "    </tr>\n",
              "    <tr>\n",
              "      <th>75%</th>\n",
              "      <td>325000.000000</td>\n",
              "      <td>2009.000000</td>\n",
              "      <td>2.300000</td>\n",
              "      <td>12.000000</td>\n",
              "      <td>16.000000</td>\n",
              "      <td>91.000000</td>\n",
              "      <td>8990.000000</td>\n",
              "    </tr>\n",
              "    <tr>\n",
              "      <th>max</th>\n",
              "      <td>1000000.000000</td>\n",
              "      <td>2019.000000</td>\n",
              "      <td>8.000000</td>\n",
              "      <td>86.000000</td>\n",
              "      <td>1273.000000</td>\n",
              "      <td>2232.000000</td>\n",
              "      <td>50000.000000</td>\n",
              "    </tr>\n",
              "  </tbody>\n",
              "</table>\n",
              "</div>\n",
              "      <button class=\"colab-df-convert\" onclick=\"convertToInteractive('df-ea281308-7ecf-43fe-8161-88ced5108b51')\"\n",
              "              title=\"Convert this dataframe to an interactive table.\"\n",
              "              style=\"display:none;\">\n",
              "        \n",
              "  <svg xmlns=\"http://www.w3.org/2000/svg\" height=\"24px\"viewBox=\"0 0 24 24\"\n",
              "       width=\"24px\">\n",
              "    <path d=\"M0 0h24v24H0V0z\" fill=\"none\"/>\n",
              "    <path d=\"M18.56 5.44l.94 2.06.94-2.06 2.06-.94-2.06-.94-.94-2.06-.94 2.06-2.06.94zm-11 1L8.5 8.5l.94-2.06 2.06-.94-2.06-.94L8.5 2.5l-.94 2.06-2.06.94zm10 10l.94 2.06.94-2.06 2.06-.94-2.06-.94-.94-2.06-.94 2.06-2.06.94z\"/><path d=\"M17.41 7.96l-1.37-1.37c-.4-.4-.92-.59-1.43-.59-.52 0-1.04.2-1.43.59L10.3 9.45l-7.72 7.72c-.78.78-.78 2.05 0 2.83L4 21.41c.39.39.9.59 1.41.59.51 0 1.02-.2 1.41-.59l7.78-7.78 2.81-2.81c.8-.78.8-2.07 0-2.86zM5.41 20L4 18.59l7.72-7.72 1.47 1.35L5.41 20z\"/>\n",
              "  </svg>\n",
              "      </button>\n",
              "      \n",
              "  <style>\n",
              "    .colab-df-container {\n",
              "      display:flex;\n",
              "      flex-wrap:wrap;\n",
              "      gap: 12px;\n",
              "    }\n",
              "\n",
              "    .colab-df-convert {\n",
              "      background-color: #E8F0FE;\n",
              "      border: none;\n",
              "      border-radius: 50%;\n",
              "      cursor: pointer;\n",
              "      display: none;\n",
              "      fill: #1967D2;\n",
              "      height: 32px;\n",
              "      padding: 0 0 0 0;\n",
              "      width: 32px;\n",
              "    }\n",
              "\n",
              "    .colab-df-convert:hover {\n",
              "      background-color: #E2EBFA;\n",
              "      box-shadow: 0px 1px 2px rgba(60, 64, 67, 0.3), 0px 1px 3px 1px rgba(60, 64, 67, 0.15);\n",
              "      fill: #174EA6;\n",
              "    }\n",
              "\n",
              "    [theme=dark] .colab-df-convert {\n",
              "      background-color: #3B4455;\n",
              "      fill: #D2E3FC;\n",
              "    }\n",
              "\n",
              "    [theme=dark] .colab-df-convert:hover {\n",
              "      background-color: #434B5C;\n",
              "      box-shadow: 0px 1px 3px 1px rgba(0, 0, 0, 0.15);\n",
              "      filter: drop-shadow(0px 1px 2px rgba(0, 0, 0, 0.3));\n",
              "      fill: #FFFFFF;\n",
              "    }\n",
              "  </style>\n",
              "\n",
              "      <script>\n",
              "        const buttonEl =\n",
              "          document.querySelector('#df-ea281308-7ecf-43fe-8161-88ced5108b51 button.colab-df-convert');\n",
              "        buttonEl.style.display =\n",
              "          google.colab.kernel.accessAllowed ? 'block' : 'none';\n",
              "\n",
              "        async function convertToInteractive(key) {\n",
              "          const element = document.querySelector('#df-ea281308-7ecf-43fe-8161-88ced5108b51');\n",
              "          const dataTable =\n",
              "            await google.colab.kernel.invokeFunction('convertToInteractive',\n",
              "                                                     [key], {});\n",
              "          if (!dataTable) return;\n",
              "\n",
              "          const docLinkHtml = 'Like what you see? Visit the ' +\n",
              "            '<a target=\"_blank\" href=https://colab.research.google.com/notebooks/data_table.ipynb>data table notebook</a>'\n",
              "            + ' to learn more about interactive tables.';\n",
              "          element.innerHTML = '';\n",
              "          dataTable['output_type'] = 'display_data';\n",
              "          await google.colab.output.renderOutput(dataTable, element);\n",
              "          const docLink = document.createElement('div');\n",
              "          docLink.innerHTML = docLinkHtml;\n",
              "          element.appendChild(docLink);\n",
              "        }\n",
              "      </script>\n",
              "    </div>\n",
              "  </div>\n",
              "  "
            ],
            "text/plain": [
              "       odometer_value  year_produced  ...  duration_listed     price_usd\n",
              "count    50000.000000   50000.000000  ...     50000.000000  50000.000000\n",
              "mean    249219.881980    2002.945620  ...        80.739440   6654.891274\n",
              "std     136361.343789       8.067141  ...       113.606476   6467.096697\n",
              "min          0.000000    1942.000000  ...         0.000000      1.000000\n",
              "25%     158000.000000    1998.000000  ...        23.000000   2100.000000\n",
              "50%     250000.000000    2003.000000  ...        59.000000   4800.000000\n",
              "75%     325000.000000    2009.000000  ...        91.000000   8990.000000\n",
              "max    1000000.000000    2019.000000  ...      2232.000000  50000.000000\n",
              "\n",
              "[8 rows x 7 columns]"
            ]
          },
          "metadata": {},
          "execution_count": 201
        }
      ],
      "source": [
        "train.describe()"
      ]
    },
    {
      "cell_type": "markdown",
      "metadata": {
        "id": "viRAELAI07oE"
      },
      "source": [
        "### Step 2 : Data Cleaning and Preparation"
      ]
    },
    {
      "cell_type": "markdown",
      "metadata": {
        "id": "1rYl6opz07ot"
      },
      "source": [
        "### Step 3: Visualizing the data\n"
      ]
    },
    {
      "cell_type": "code",
      "execution_count": null,
      "metadata": {
        "colab": {
          "base_uri": "https://localhost:8080/",
          "height": 514
        },
        "id": "wBjfmeAS07ov",
        "outputId": "7e94e7b7-b962-484c-f398-9d5930ad109d"
      },
      "outputs": [
        {
          "output_type": "display_data",
          "data": {
            "image/png": "[encoded data removed]",
            "text/plain": [
              "<Figure size 1440x576 with 2 Axes>"
            ]
          },
          "metadata": {
            "needs_background": "light"
          }
        }
      ],
      "source": [
        "plt.figure(figsize=(20,8))\n",
        "\n",
        "plt.subplot(1,2,1)\n",
        "plt.title('Car Price Distribution Plot')\n",
        "sns.distplot(train.price_usd)\n",
        "\n",
        "plt.subplot(1,2,2)\n",
        "plt.title('Car Price Spread')\n",
        "sns.boxplot(y=train.price_usd)\n",
        "\n",
        "plt.show()"
      ]
    },
    {
      "cell_type": "markdown",
      "metadata": {
        "id": "pjKmSV8-07o7"
      },
      "source": [
        "#### Step 3.1 : Visualising Categorical Data\n",
        "\n",
        "    - manufacturer_name\n",
        "    - transmission\n",
        "    - color\n",
        "    - engine_fuel\n",
        "    - engine_type\n",
        "    - body_type\n",
        "    - ownership\n",
        "    - type_of_drive\n",
        "  \n",
        "\n"
      ]
    },
    {
      "cell_type": "code",
      "execution_count": null,
      "metadata": {
        "colab": {
          "base_uri": "https://localhost:8080/",
          "height": 404
        },
        "id": "vHtURF3Q07o_",
        "outputId": "0ae90563-a8cc-4647-9f36-18ec83e3166f"
      },
      "outputs": [
        {
          "output_type": "display_data",
          "data": {
            "image/png": "[encoded data removed]",
            "text/plain": [
              "<Figure size 1800x432 with 3 Axes>"
            ]
          },
          "metadata": {
            "needs_background": "light"
          }
        }
      ],
      "source": [
        "plt.figure(figsize=(25, 6))\n",
        "\n",
        "plt.subplot(1,3,1)\n",
        "plt1 = train.manufacturer_name.value_counts().plot(kind='bar')\n",
        "plt.title('manufacturer Histogram')\n",
        "plt1.set(xlabel = 'Car manufacturer', ylabel='Frequency of company')\n",
        "\n",
        "plt.subplot(1,3,2)\n",
        "plt1 = train.engine_fuel.value_counts().plot(kind='bar')\n",
        "plt.title('Fuel Type Histogram')\n",
        "plt1.set(xlabel = 'Fuel Type', ylabel='Frequency of fuel type')\n",
        "\n",
        "plt.subplot(1,3,3)\n",
        "plt1 = train.body_type.value_counts().plot(kind='bar')\n",
        "plt.title('Car Type Histogram')\n",
        "plt1.set(xlabel = 'Car Type', ylabel='Frequency of Car type')\n",
        "\n",
        "plt.show()"
      ]
    },
    {
      "cell_type": "markdown",
      "source": [
        "#### Inference :\n",
        "\n",
        "1. `Volkswagen` seemed to be favored car company.\n",
        "2. Number of `gasoline` fueled cars are more than `diesel` and others.\n",
        "3. `sedan` is the top car type prefered."
      ],
      "metadata": {
        "id": "u4uH6nFcxqYB"
      }
    },
    {
      "cell_type": "markdown",
      "source": [
        "for shortcut i will plot one feature to see the relation with price. i plot most of them and notice which one have direct relation with price. if you want to see one you can try to replace the body_type with the name you want to see. the above shapes show the Frequency of each feature. "
      ],
      "metadata": {
        "id": "IFTB56g28dDU"
      }
    },
    {
      "cell_type": "code",
      "execution_count": null,
      "metadata": {
        "colab": {
          "base_uri": "https://localhost:8080/",
          "height": 464
        },
        "id": "wwAmzWuh07pN",
        "outputId": "012d1d21-4a22-4420-e698-2c10189694f4"
      },
      "outputs": [
        {
          "output_type": "display_data",
          "data": {
            "text/plain": [
              "<Figure size 1440x576 with 0 Axes>"
            ]
          },
          "metadata": {}
        },
        {
          "output_type": "display_data",
          "data": {
            "image/png": "[encoded data removed]",
            "text/plain": [
              "<Figure size 576x432 with 1 Axes>"
            ]
          },
          "metadata": {
            "needs_background": "light"
          }
        }
      ],
      "source": [
        "plt.figure(figsize=(20,8))\n",
        "\n",
        "\n",
        "df = pd.DataFrame(train.groupby(['body_type'])['price_usd'].mean().sort_values(ascending = False))\n",
        "df.plot.bar(figsize=(8,6))\n",
        "plt.title('type_of_drive Type vs Average Price')\n",
        "plt.show()\n"
      ]
    },
    {
      "cell_type": "code",
      "source": [
        "#here will print the categorical \n",
        "\n",
        "s = (train.dtypes == 'object')\n",
        "object_cols = list(s[s].index)\n",
        "print(object_cols)"
      ],
      "metadata": {
        "colab": {
          "base_uri": "https://localhost:8080/"
        },
        "id": "d6XKV_-iW6t5",
        "outputId": "96e09027-1b37-4890-dd78-8ece32173514"
      },
      "execution_count": null,
      "outputs": [
        {
          "output_type": "stream",
          "name": "stdout",
          "text": [
            "['manufacturer_name', 'transmission', 'color', 'engine_fuel', 'engine_type', 'body_type', 'ownership', 'type_of_drive']\n"
          ]
        }
      ]
    },
    {
      "cell_type": "markdown",
      "source": [
        "I will use factorize() function to encode the categorical variable as an enumerated type. to deal with it and calculate the MI score, the main aim for this cell is to devide the numarical and categorical values."
      ],
      "metadata": {
        "id": "lgEMrbGDSAvm"
      }
    },
    {
      "cell_type": "code",
      "source": [
        "drop = ['price_usd','engine_capacity'] # I remove engine_capacity cause it contain Nan values. we can will use simple imputer to deal with that\n",
        "y = train.price_usd\n",
        "x = train.drop(drop,axis=1)\n",
        "\n",
        "\n",
        "y_t = test.price_usd\n",
        "x_t = test.drop(drop,axis=1)\n",
        "\n",
        "for colname in x.select_dtypes(\"object\"):\n",
        "    x[colname], _ = x[colname].factorize()\n",
        "\n",
        "# All discrete features should now have integer dtypes (double-check this before using MI!)\n",
        "discrete_features = x.dtypes == int"
      ],
      "metadata": {
        "id": "z5H0KVo8UyoV"
      },
      "execution_count": null,
      "outputs": []
    },
    {
      "cell_type": "markdown",
      "source": [
        "Mutual information (MI) between two random variables measures the dependency between the variables. fall in the range from 0 to 1. The higher value, the closer connection between this feature and the target, suggests that we should put this feature in the training dataset. If the MI score is 0 or very low like 0.01. the low score suggests a weak connection between this feature and the target."
      ],
      "metadata": {
        "id": "caBDCQeqJ5Ao"
      }
    },
    {
      "cell_type": "code",
      "source": [
        "from sklearn.feature_selection import mutual_info_regression\n",
        "\n",
        "def make_mi_scores(X, y, discrete_features):\n",
        "    mi_scores = mutual_info_regression(x, y, discrete_features=discrete_features)\n",
        "    mi_scores = pd.Series(mi_scores, name=\"MI Scores\", index=X.columns)\n",
        "    mi_scores = mi_scores.sort_values(ascending=False)\n",
        "    return mi_scores\n",
        "\n",
        "mi_scores = make_mi_scores(x, y, discrete_features)\n",
        "mi_scores[::]  # show the features with their MI scores "
      ],
      "metadata": {
        "colab": {
          "base_uri": "https://localhost:8080/"
        },
        "id": "SPbMg0l4U1xv",
        "outputId": "765fb736-2c55-423b-8335-142fce94f7b3"
      },
      "execution_count": null,
      "outputs": [
        {
          "output_type": "execute_result",
          "data": {
            "text/plain": [
              "odometer_value           1.276592\n",
              "year_produced            0.778877\n",
              "duration_listed          0.320432\n",
              "manufacturer_name        0.285349\n",
              "number_of_photos         0.202991\n",
              "body_type                0.192456\n",
              "number_of_maintenance    0.168569\n",
              "color                    0.159106\n",
              "transmission             0.156156\n",
              "type_of_drive            0.111928\n",
              "ownership                0.058760\n",
              "engine_fuel              0.049070\n",
              "has_warranty             0.044814\n",
              "engine_type              0.035464\n",
              "is_exchangeable          0.033214\n",
              "Name: MI Scores, dtype: float64"
            ]
          },
          "metadata": {},
          "execution_count": 207
        }
      ]
    },
    {
      "cell_type": "code",
      "source": [
        "def plot_mi_scores(scores): # this function plot the mi score for the above features \n",
        "    scores = scores.sort_values(ascending=True)\n",
        "    width = np.arange(len(scores))\n",
        "    ticks = list(scores.index)\n",
        "    plt.barh(width, scores)\n",
        "    plt.yticks(width, ticks)\n",
        "    plt.title(\"Mutual Information Scores\")\n",
        "\n",
        "\n",
        "plt.figure(dpi=100, figsize=(8, 5))\n",
        "plot_mi_scores(mi_scores)"
      ],
      "metadata": {
        "colab": {
          "base_uri": "https://localhost:8080/",
          "height": 460
        },
        "id": "A8OmHKAkWsRi",
        "outputId": "45e41f39-cb5c-4791-9194-f9ab5a8ee009"
      },
      "execution_count": null,
      "outputs": [
        {
          "output_type": "display_data",
          "data": {
            "image/png": "[encoded data removed]",
            "text/plain": [
              "<Figure size 800x500 with 1 Axes>"
            ]
          },
          "metadata": {
            "needs_background": "light"
          }
        }
      ]
    },
    {
      "cell_type": "markdown",
      "metadata": {
        "id": "7q-DJZkn07qI"
      },
      "source": [
        "### Step 6 : One-Hot encoder"
      ]
    },
    {
      "cell_type": "markdown",
      "source": [
        "after I detemine the most important features. i will remove the lowest mi score feature cause it donsn't effect the predict."
      ],
      "metadata": {
        "id": "wCaa5Io0Tqud"
      }
    },
    {
      "cell_type": "code",
      "source": [
        "cars_lr = train[['manufacturer_name', 'transmission', 'color', 'odometer_value','year_produced', 'engine_fuel', 'engine_capacity','body_type',\n",
        "                 'has_warranty', 'ownership', 'type_of_drive', 'number_of_photos', 'number_of_maintenance','duration_listed']]\n",
        "x_t = test[['manufacturer_name', 'transmission', 'color', 'odometer_value','year_produced', 'engine_fuel', 'engine_capacity','body_type',\n",
        "                 'has_warranty', 'ownership', 'type_of_drive', 'number_of_photos', 'number_of_maintenance','duration_listed']]\n"
      ],
      "metadata": {
        "id": "j4Pyv4PFyNU7"
      },
      "execution_count": null,
      "outputs": []
    },
    {
      "cell_type": "code",
      "source": [
        "object_cols = ['manufacturer_name', 'transmission','type_of_drive','body_type','ownership','color','engine_fuel']\n",
        "# we need this to pass it to the on_encoder to encode it "
      ],
      "metadata": {
        "id": "kuxc3FDA47td"
      },
      "execution_count": null,
      "outputs": []
    },
    {
      "cell_type": "code",
      "execution_count": null,
      "metadata": {
        "id": "_V3ynrTj07qK"
      },
      "outputs": [],
      "source": [
        "# Apply one-hot encoder to each column with categorical data\n",
        "OH_encoder = OneHotEncoder(handle_unknown='ignore', sparse=False)\n",
        "OH_cols_train = pd.DataFrame(OH_encoder.fit_transform(cars_lr[object_cols]))\n",
        "OH_cols_valid = pd.DataFrame(OH_encoder.transform(x_t[object_cols]))\n",
        "\n",
        "# One-hot encoding removed index; put it back\n",
        "OH_cols_train.index = cars_lr.index\n",
        "OH_cols_valid.index = x_t.index\n",
        "\n",
        "# Remove categorical columns (will replace with one-hot encoding)\n",
        "num_X_train = cars_lr.drop(object_cols, axis=1)\n",
        "num_X_valid = x_t.drop(object_cols, axis=1)\n",
        "\n",
        "\n",
        "# Add one-hot encoded columns to numerical features\n",
        "OH_X_train = pd.concat([num_X_train, OH_cols_train], axis=1)\n",
        "OH_X_valid = pd.concat([num_X_valid, OH_cols_valid], axis=1)"
      ]
    },
    {
      "cell_type": "code",
      "execution_count": null,
      "metadata": {
        "id": "6o0ghwQ307qQ"
      },
      "outputs": [],
      "source": [
        "# Imputation\n",
        "my_imputer = SimpleImputer()\n",
        "imputed_X_train = pd.DataFrame(my_imputer.fit_transform(OH_X_train))\n",
        "imputed_X_valid = pd.DataFrame(my_imputer.transform(OH_X_valid))"
      ]
    },
    {
      "cell_type": "code",
      "source": [
        "print(\"MAE from Approach 2 (using on-hot encoding): \")\n",
        "print(score_dataset(imputed_X_train, imputed_X_valid, y_train, y_test))"
      ],
      "metadata": {
        "colab": {
          "base_uri": "https://localhost:8080/"
        },
        "id": "avSpvy2_1Vhv",
        "outputId": "4a3b90ee-3ebf-4611-d1b9-06b5fa38186a"
      },
      "execution_count": null,
      "outputs": [
        {
          "output_type": "stream",
          "name": "stdout",
          "text": [
            "MAE from Approach 2 (using on-hot encoding): \n",
            "635.7308805427158\n"
          ]
        }
      ]
    },
    {
      "cell_type": "markdown",
      "metadata": {
        "id": "gs-iF5SQ07rp"
      },
      "source": [
        "### Step 9 : Residual Analysis of Model"
      ]
    },
    {
      "cell_type": "code",
      "source": [
        "preds = model.predict(x_test)"
      ],
      "metadata": {
        "id": "2sFMW3BmuiAF"
      },
      "execution_count": null,
      "outputs": []
    },
    {
      "cell_type": "code",
      "execution_count": null,
      "metadata": {
        "colab": {
          "base_uri": "https://localhost:8080/",
          "height": 333
        },
        "id": "B43Q7AXg07rs",
        "outputId": "73289436-e280-4202-e037-abce2895c3ca"
      },
      "outputs": [
        {
          "output_type": "execute_result",
          "data": {
            "text/plain": [
              "Text(0.5, 0, 'Errors')"
            ]
          },
          "metadata": {},
          "execution_count": 215
        },
        {
          "output_type": "display_data",
          "data": {
            "image/png": "[encoded data removed]",
            "text/plain": [
              "<Figure size 432x288 with 1 Axes>"
            ]
          },
          "metadata": {
            "needs_background": "light"
          }
        }
      ],
      "source": [
        "# Plot the histogram of the error terms\n",
        "fig = plt.figure()\n",
        "sns.distplot((y_test - preds), bins = 20)\n",
        "fig.suptitle('Error Terms', fontsize = 20)                  # Plot heading \n",
        "plt.xlabel('Errors', fontsize = 18)   "
      ]
    },
    {
      "cell_type": "markdown",
      "metadata": {
        "id": "n76S5mvU07rv"
      },
      "source": [
        "Error terms seem to be approximately normally distributed, so the assumption on the linear modeling seems to be fulfilled."
      ]
    }
  ],
  "metadata": {
    "kernelspec": {
      "display_name": "Python 3",
      "language": "python",
      "name": "python3"
    },
    "language_info": {
      "codemirror_mode": {
        "name": "ipython",
        "version": 3
      },
      "file_extension": ".py",
      "mimetype": "text/x-python",
      "name": "python",
      "nbconvert_exporter": "python",
      "pygments_lexer": "ipython3",
      "version": "3.7.0"
    },
    "colab": {
      "name": "car_price_prediction_Rihal_challenge.ipynb",
      "provenance": [],
      "collapsed_sections": [],
      "include_colab_link": true
    }
  },
  "nbformat": 4,
  "nbformat_minor": 0
}